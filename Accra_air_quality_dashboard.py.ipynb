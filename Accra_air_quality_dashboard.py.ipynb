{
 "cells": [
  {
   "cell_type": "code",
   "execution_count": 5,
   "id": "bdcc4904",
   "metadata": {},
   "outputs": [
    {
     "name": "stderr",
     "output_type": "stream",
     "text": [
      "2024-05-29 09:43:46.371 \n",
      "  \u001b[33m\u001b[1mWarning:\u001b[0m to view this Streamlit app on a browser, run it with the following\n",
      "  command:\n",
      "\n",
      "    streamlit run C:\\Users\\pc\\anaconda3\\Lib\\site-packages\\ipykernel_launcher.py [ARGUMENTS]\n",
      "C:\\Users\\pc\\anaconda3\\Lib\\site-packages\\seaborn\\_oldcore.py:1119: FutureWarning: use_inf_as_na option is deprecated and will be removed in a future version. Convert inf values to NaN before operating instead.\n",
      "  with pd.option_context('mode.use_inf_as_na', True):\n",
      "C:\\Users\\pc\\anaconda3\\Lib\\site-packages\\seaborn\\_oldcore.py:1119: FutureWarning: use_inf_as_na option is deprecated and will be removed in a future version. Convert inf values to NaN before operating instead.\n",
      "  with pd.option_context('mode.use_inf_as_na', True):\n"
     ]
    }
   ],
   "source": [
    "import streamlit as st\n",
    "import pandas as pd\n",
    "import matplotlib.pyplot as plt\n",
    "import seaborn as sns\n",
    "from sklearn.linear_model import LinearRegression\n",
    "from sklearn.model_selection import train_test_split\n",
    "from sklearn.metrics import r2_score, mean_absolute_error, mean_squared_error\n",
    "import numpy as np\n",
    "\n",
    "# Load your data\n",
    "data = pd.read_csv(\"C:/Users/pc/Desktop/PROJECT/Korle_Bu - clean.csv\")\n",
    "\n",
    "# Define your features and target\n",
    "features = ['PM2.5', 'PM10']\n",
    "target = 'AQI'\n",
    "\n",
    "# Split the data\n",
    "X = data[features]\n",
    "y = data[target]\n",
    "X_train, X_test, y_train, y_test = train_test_split(X, y, test_size=0.2, random_state=42)\n",
    "\n",
    "# Streamlit app\n",
    "st.title(\"Air Quality Prediction Dashboard\")\n",
    "\n",
    "# Sidebar for user input\n",
    "st.sidebar.header(\"User Input Parameters\")\n",
    "\n",
    "def user_input_features():\n",
    "    user_data = {}\n",
    "    for feature in features:\n",
    "        user_data[feature] = st.sidebar.slider(feature, float(X[feature].min()), float(X[feature].max()), float(X[feature].mean()))\n",
    "    return pd.DataFrame(user_data, index=[0])\n",
    "\n",
    "input_df = user_input_features()\n",
    "\n",
    "# Display the input data\n",
    "st.subheader('User Input parameters')\n",
    "st.write(input_df)\n",
    "\n",
    "# Train the model\n",
    "model = LinearRegression()\n",
    "model.fit(X_train, y_train)\n",
    "\n",
    "# Make predictions\n",
    "prediction = model.predict(input_df)\n",
    "st.subheader('Predicted AQI')\n",
    "st.write(prediction[0])\n",
    "\n",
    "# Display metrics\n",
    "y_pred = model.predict(X_test)\n",
    "r2 = r2_score(y_test, y_pred)\n",
    "mae = mean_absolute_error(y_test, y_pred)\n",
    "rmse = np.sqrt(mean_squared_error(y_test, y_pred))\n",
    "\n",
    "st.subheader('Model Performance Metrics')\n",
    "st.write(f\"R^2 Score: {r2}\")\n",
    "st.write(f\"Mean Absolute Error: {mae}\")\n",
    "st.write(f\"Root Mean Squared Error: {rmse}\")\n",
    "\n",
    "# Visualization\n",
    "st.subheader('Feature Distribution')\n",
    "for feature in features:\n",
    "    fig, ax = plt.subplots()\n",
    "    sns.histplot(data[feature], kde=True, ax=ax)\n",
    "    st.pyplot(fig)\n"
   ]
  },
  {
   "cell_type": "code",
   "execution_count": null,
   "id": "c3063099",
   "metadata": {},
   "outputs": [],
   "source": []
  }
 ],
 "metadata": {
  "kernelspec": {
   "display_name": "Python 3 (ipykernel)",
   "language": "python",
   "name": "python3"
  },
  "language_info": {
   "codemirror_mode": {
    "name": "ipython",
    "version": 3
   },
   "file_extension": ".py",
   "mimetype": "text/x-python",
   "name": "python",
   "nbconvert_exporter": "python",
   "pygments_lexer": "ipython3",
   "version": "3.11.5"
  }
 },
 "nbformat": 4,
 "nbformat_minor": 5
}
